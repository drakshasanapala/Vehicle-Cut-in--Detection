{
  "nbformat": 4,
  "nbformat_minor": 0,
  "metadata": {
    "colab": {
      "provenance": [],
      "mount_file_id": "1czlDZgYdzjnILWYsNBTL1kHviH_xnTbG",
      "authorship_tag": "ABX9TyNWwLgwD7UGIA88R7X+S8ZG",
      "include_colab_link": true
    },
    "kernelspec": {
      "name": "python3",
      "display_name": "Python 3"
    },
    "language_info": {
      "name": "python"
    }
  },
  "cells": [
    {
      "cell_type": "markdown",
      "metadata": {
        "id": "view-in-github",
        "colab_type": "text"
      },
      "source": [
        "<a href=\"https://colab.research.google.com/github/bobthesiddharth/Vehicle-Cut-in-Detection/blob/main/Untitled17.ipynb\" target=\"_parent\"><img src=\"https://colab.research.google.com/assets/colab-badge.svg\" alt=\"Open In Colab\"/></a>"
      ]
    },
    {
      "cell_type": "code",
      "execution_count": 16,
      "metadata": {
        "colab": {
          "base_uri": "https://localhost:8080/"
        },
        "id": "bTnRjhEpTm2R",
        "outputId": "220ef09f-fb11-415f-e05e-dd5af259e1aa"
      },
      "outputs": [
        {
          "output_type": "stream",
          "name": "stdout",
          "text": [
            "Moviepy - Building video solidWhiteRight_output.mp4.\n",
            "Moviepy - Writing video solidWhiteRight_output.mp4\n",
            "\n"
          ]
        },
        {
          "output_type": "stream",
          "name": "stderr",
          "text": [
            "t:  29%|██▉       | 530/1801 [02:42<09:58,  2.12it/s, now=None]WARNING:py.warnings:<ipython-input-16-d0956d82bc08>:83: RuntimeWarning: divide by zero encountered in scalar divide\n",
            "  slope = (y2 - y1) / (x2 - x1)\n",
            "\n"
          ]
        },
        {
          "output_type": "stream",
          "name": "stdout",
          "text": [
            "Moviepy - Done !\n",
            "Moviepy - video ready solidWhiteRight_output.mp4\n"
          ]
        }
      ],
      "source": [
        "import matplotlib.pyplot as plt\n",
        "import numpy as np\n",
        "import cv2\n",
        "import math\n",
        "from moviepy.editor import VideoFileClip\n",
        "from IPython.display import HTML\n",
        "\n",
        "def region_of_interest(img, vertices):\n",
        "    mask = np.zeros_like(img)\n",
        "    match_mask_color = 255\n",
        "    cv2.fillPoly(mask, vertices, match_mask_color)\n",
        "    masked_image = cv2.bitwise_and(img, mask)\n",
        "    return masked_image\n",
        "\n",
        "def draw_lines(img, lines, color=[255, 0, 0], thickness=3):\n",
        "    line_img = np.zeros(\n",
        "        (\n",
        "            img.shape[0],\n",
        "            img.shape[1],\n",
        "            3\n",
        "        ),\n",
        "        dtype=np.uint8\n",
        "    )\n",
        "    img = np.copy(img)\n",
        "    if lines is None:\n",
        "        return img\n",
        "    for line in lines:\n",
        "        for x1, y1, x2, y2 in line:\n",
        "            cv2.line(line_img, (x1, y1), (x2, y2), color, thickness)\n",
        "    img = cv2.addWeighted(img, 0.8, line_img, 1.0, 0.0)\n",
        "    return img\n",
        "\n",
        "def detect_cars(image):\n",
        "    # Update the path to the correct location where the haarcascade_car.xml is stored\n",
        "    car_cascade = cv2.CascadeClassifier('haarcascade_car.xml')  # Update this path\n",
        "    gray = cv2.cvtColor(image, cv2.COLOR_BGR2GRAY)\n",
        "    cars = car_cascade.detectMultiScale(gray, 1.1, 1)\n",
        "    for (x, y, w, h) in cars:\n",
        "        cv2.rectangle(image, (x, y), (x+w, y+h), (0, 0, 255), 2)\n",
        "    return image\n",
        "\n",
        "def pipeline(image):\n",
        "    \"\"\"\n",
        "    An image processing pipeline which will output\n",
        "    an image with the lane lines and cars annotated.\n",
        "    \"\"\"\n",
        "    height = image.shape[0]\n",
        "    width = image.shape[1]\n",
        "    region_of_interest_vertices = [\n",
        "        (0, height),\n",
        "        (width / 2, height / 2),\n",
        "        (width, height),\n",
        "    ]\n",
        "    gray_image = cv2.cvtColor(image, cv2.COLOR_RGB2GRAY)\n",
        "    cannyed_image = cv2.Canny(gray_image, 100, 200)\n",
        "\n",
        "    cropped_image = region_of_interest(\n",
        "        cannyed_image,\n",
        "        np.array(\n",
        "            [region_of_interest_vertices],\n",
        "            np.int32\n",
        "        ),\n",
        "    )\n",
        "\n",
        "    lines = cv2.HoughLinesP(\n",
        "        cropped_image,\n",
        "        rho=6,\n",
        "        theta=np.pi / 60,\n",
        "        threshold=160,\n",
        "        lines=np.array([]),\n",
        "        minLineLength=40,\n",
        "        maxLineGap=25\n",
        "    )\n",
        "\n",
        "    left_line_x = []\n",
        "    left_line_y = []\n",
        "    right_line_x = []\n",
        "    right_line_y = []\n",
        "\n",
        "    if lines is not None:\n",
        "        for line in lines:\n",
        "            for x1, y1, x2, y2 in line:\n",
        "                slope = (y2 - y1) / (x2 - x1)\n",
        "                if math.fabs(slope) < 0.5:\n",
        "                    continue\n",
        "                if slope <= 0:\n",
        "                    left_line_x.extend([x1, x2])\n",
        "                    left_line_y.extend([y1, y2])\n",
        "                else:\n",
        "                    right_line_x.extend([x1, x2])\n",
        "                    right_line_y.extend([y1, y2])\n",
        "\n",
        "    if left_line_x and left_line_y and right_line_x and right_line_y:\n",
        "        min_y = int(image.shape[0] * (3 / 5))\n",
        "        max_y = int(image.shape[0])\n",
        "\n",
        "        # Fit polynomial to x and y values for left and right lines\n",
        "        if left_line_x and left_line_y:\n",
        "            poly_left = np.poly1d(np.polyfit(\n",
        "                left_line_y,\n",
        "                left_line_x,\n",
        "                deg=1\n",
        "            ))\n",
        "            left_x_start = int(poly_left(max_y))\n",
        "            left_x_end = int(poly_left(min_y))\n",
        "        else:\n",
        "            left_x_start = left_x_end = 0\n",
        "\n",
        "        if right_line_x and right_line_y:\n",
        "            poly_right = np.poly1d(np.polyfit(\n",
        "                right_line_y,\n",
        "                right_line_x,\n",
        "                deg=1\n",
        "            ))\n",
        "            right_x_start = int(poly_right(max_y))\n",
        "            right_x_end = int(poly_right(min_y))\n",
        "        else:\n",
        "            right_x_start = right_x_end = 0\n",
        "\n",
        "        # Draw the left and right lines on the image\n",
        "        line_image = draw_lines(\n",
        "            image,\n",
        "            [[\n",
        "                [left_x_start, max_y, left_x_end, min_y],\n",
        "                [right_x_start, max_y, right_x_end, min_y],\n",
        "            ]],\n",
        "            thickness=5,\n",
        "        )\n",
        "    else:\n",
        "        line_image = image  # If no lines are detected, return the original image\n",
        "\n",
        "    # Detect cars and draw red rectangles around them\n",
        "    final_image = detect_cars(line_image)\n",
        "\n",
        "    return final_image\n",
        "\n",
        "# Example usage\n",
        "if __name__ == \"__main__\":\n",
        "    white_output = 'solidWhiteRight_output.mp4'\n",
        "    clip1 = VideoFileClip(\"/content/Lane.mp4\")\n",
        "    white_clip = clip1.fl_image(pipeline)\n",
        "    white_clip.write_videofile(white_output, audio=False)\n"
      ]
    },
    {
      "cell_type": "code",
      "source": [
        "from google.colab import drive\n",
        "drive.mount('/content/drive')"
      ],
      "metadata": {
        "id": "aYZ7bzdAq_vR"
      },
      "execution_count": null,
      "outputs": []
    }
  ]
}
